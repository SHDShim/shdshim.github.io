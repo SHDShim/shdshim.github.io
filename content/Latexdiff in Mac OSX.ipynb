{
 "cells": [
  {
   "cell_type": "markdown",
   "metadata": {},
   "source": [
    "__(Warning)__ The following procedure only worked with `Ubuntu` and Mac OSX.  \n",
    "\n",
    "__(Warning)__ `Latexdiff` from MacTeX did not work with unknown reason.\n",
    "\n",
    "To make error free, make sure you do this:\n",
    "\n",
    "1. Your old and new files must exist in separate folders.  Those separate folders must have all the necessary files, such as `*.aux`, `*.blb`, figure `pdf`s, etc. If you mix old and new files in the same folder, you will get a lot of errors.\n",
    "\n",
    "2. It is not absolutely necessary, but you may want to separately compile them to pdf's.\n",
    "\n",
    "3. You can now execute `latexdiff` through one of the followings.\n",
    "\n",
    "  ```bash\n",
    "  latexdiff --flatten --disable-citation-markup  ./old/original.tex ./new/revised.tex > diff.tex\n",
    "  ```\n",
    "\n",
    "  `--flatten` : this option is needed when you have `\\include`, `\\input`, or `\\includegraphics`.\n",
    "\n",
    "  `--subtype=“SAFE”` : this option does not seem to change anything\n",
    "\n",
    "  `--disable-citation-markup` : this option make no tracking for citation.  OK option to avoid confusion because latexdiff does not distinguish new and old citations.\n",
    "\n",
    "4. Then finally `pdflatex FeOxBr_diff.tex`.\n",
    "\n",
    "Only problem here is that this procedure does not take care of the citation changes.  But so far this is the best."
   ]
  },
  {
   "cell_type": "code",
   "execution_count": null,
   "metadata": {},
   "outputs": [],
   "source": []
  }
 ],
 "metadata": {
  "kernelspec": {
   "display_name": "Python [conda root]",
   "language": "python",
   "name": "conda-root-py"
  },
  "language_info": {
   "codemirror_mode": {
    "name": "ipython",
    "version": 3
   },
   "file_extension": ".py",
   "mimetype": "text/x-python",
   "name": "python",
   "nbconvert_exporter": "python",
   "pygments_lexer": "ipython3",
   "version": "3.6.5"
  }
 },
 "nbformat": 4,
 "nbformat_minor": 2
}
