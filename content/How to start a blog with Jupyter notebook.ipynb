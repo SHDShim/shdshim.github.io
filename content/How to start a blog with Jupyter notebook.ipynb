{
 "cells": [
  {
   "cell_type": "markdown",
   "metadata": {},
   "source": [
    "My blog was setup and started with the instruction in: https://www.dataquest.io/blog/how-to-setup-a-data-science-blog/\n",
    "\n",
    "\n",
    "Normal workflow for a blog posting.\n",
    "\n",
    "- Switch to the main blog folder.\n",
    "\n",
    "- Run `pelican content` to generate the HTML.\n",
    "\n",
    "- Switch to the `output` directory.\n",
    "\n",
    "- Run `python -m pelican.server`.\n",
    "\n",
    "- Visit `localhost:8000` in a browser to preview.\n",
    "\n",
    "- Move back to the main blog folder.\n",
    "\n",
    "- Run `pelican content -s pelicanconf.py`.\n",
    "\n",
    "- Run `ghp-import output -b master` to import everything in the output folder to the master branch.\n",
    "\n",
    "- Run `git add .`.\n",
    "\n",
    "- Run `git commit -m`.\n",
    "\n",
    "- Run `git push origin master` to push the content to `Github`."
   ]
  },
  {
   "cell_type": "code",
   "execution_count": null,
   "metadata": {},
   "outputs": [],
   "source": []
  }
 ],
 "metadata": {
  "kernelspec": {
   "display_name": "Python [default]",
   "language": "python",
   "name": "python3"
  },
  "language_info": {
   "codemirror_mode": {
    "name": "ipython",
    "version": 3
   },
   "file_extension": ".py",
   "mimetype": "text/x-python",
   "name": "python",
   "nbconvert_exporter": "python",
   "pygments_lexer": "ipython3",
   "version": "3.6.5"
  }
 },
 "nbformat": 4,
 "nbformat_minor": 2
}
