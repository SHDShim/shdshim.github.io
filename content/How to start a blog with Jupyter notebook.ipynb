{
 "cells": [
  {
   "cell_type": "markdown",
   "metadata": {},
   "source": [
    "My blog was setup and started with the instruction in: https://www.dataquest.io/blog/how-to-setup-a-data-science-blog/\n",
    "\n",
    "In order to check local updates:\n",
    "\n",
    "- Switch to the main blog folder.\n",
    "\n",
    "- Run `pelican content` to generate the HTML.\n",
    "\n",
    "- Switch to the `output` directory.\n",
    "\n",
    "- Run `python -m pelican.server`.\n",
    "\n",
    "- Visit `localhost:8000` in a browser to preview."
   ]
  }
 ],
 "metadata": {
  "kernelspec": {
   "display_name": "Python [default]",
   "language": "python",
   "name": "python3"
  },
  "language_info": {
   "codemirror_mode": {
    "name": "ipython",
    "version": 3
   },
   "file_extension": ".py",
   "mimetype": "text/x-python",
   "name": "python",
   "nbconvert_exporter": "python",
   "pygments_lexer": "ipython3",
   "version": "3.6.5"
  }
 },
 "nbformat": 4,
 "nbformat_minor": 2
}
